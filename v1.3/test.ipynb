{
 "cells": [
  {
   "cell_type": "code",
   "execution_count": 1,
   "metadata": {},
   "outputs": [
    {
     "name": "stderr",
     "output_type": "stream",
     "text": [
      "<frozen importlib._bootstrap>:228: RuntimeWarning: scipy._lib.messagestream.MessageStream size changed, may indicate binary incompatibility. Expected 56 from C header, got 64 from PyObject\n"
     ]
    }
   ],
   "source": [
    "from dataset import RetData, transform\n",
    "from modules2 import FinTransformer\n",
    "from train import trainer \n",
    "import torch\n",
    "from utils import CHARAS_LIST\n",
    "from tqdm import tqdm"
   ]
  },
  {
   "cell_type": "code",
   "execution_count": 2,
   "metadata": {},
   "outputs": [
    {
     "name": "stdout",
     "output_type": "stream",
     "text": [
      "----------In rank normalize-----------\n"
     ]
    },
    {
     "name": "stderr",
     "output_type": "stream",
     "text": [
      "100%|██████████| 780/780 [07:30<00:00,  1.73it/s]\n"
     ]
    },
    {
     "name": "stdout",
     "output_type": "stream",
     "text": [
      "--------In Modify---------\n",
      "----------In joinrets------------\n"
     ]
    }
   ],
   "source": [
    "r = RetData()"
   ]
  },
  {
   "cell_type": "code",
   "execution_count": 3,
   "metadata": {},
   "outputs": [
    {
     "name": "stdout",
     "output_type": "stream",
     "text": [
      "-------In Loaders-------\n"
     ]
    },
    {
     "name": "stderr",
     "output_type": "stream",
     "text": [
      "100%|██████████| 214/214 [00:06<00:00, 31.21it/s]\n",
      "100%|██████████| 144/144 [00:08<00:00, 17.38it/s]\n",
      "100%|██████████| 354/354 [00:26<00:00, 13.37it/s]\n"
     ]
    },
    {
     "name": "stdout",
     "output_type": "stream",
     "text": [
      "-------Making tensors--------\n",
      "torch.Size([98, 1043])\n",
      "torch.Size([2, 1043])\n",
      "torch.Size([2, 1043])\n",
      "torch.Size([98, 4673])\n",
      "torch.Size([2, 4673])\n",
      "torch.Size([2, 4673])\n",
      "torch.Size([98, 6371])\n",
      "torch.Size([2, 6371])\n",
      "torch.Size([2, 6371])\n"
     ]
    }
   ],
   "source": [
    "train, valid, test = r.loaders()"
   ]
  },
  {
   "cell_type": "code",
   "execution_count": 4,
   "metadata": {},
   "outputs": [],
   "source": [
    "# train, valid, test = r.loaders()\n",
    "\n",
    "trainloader = transform(data=train, name = \"trainloader.pt\", batch_size =2048 )\n",
    "testloader = transform(data = test, name = \"testloader.pt\", batch_size = 2048)\n",
    "validloader = transform(data = valid, name = \"validloader.pt\", batch_size = 2048)"
   ]
  },
  {
   "cell_type": "code",
   "execution_count": 5,
   "metadata": {},
   "outputs": [],
   "source": [
    "model = FinTransformer(embed_size=512, inner_dim = 512, num_returns=98, num_decoder_returns=2, heads=8, repeats=1, dropout=0.1)\n",
    "\n",
    "device = \"cuda\"\n",
    "model = model.to(device)"
   ]
  },
  {
   "cell_type": "code",
   "execution_count": 6,
   "metadata": {},
   "outputs": [
    {
     "name": "stdout",
     "output_type": "stream",
     "text": [
      "Epoch 1/1000 ---- "
     ]
    },
    {
     "name": "stderr",
     "output_type": "stream",
     "text": [
      "  0%|          | 0/296 [00:00<?, ?it/s]"
     ]
    },
    {
     "name": "stderr",
     "output_type": "stream",
     "text": [
      "  1%|▏         | 4/296 [00:42<51:27, 10.57s/it]  \n"
     ]
    },
    {
     "ename": "KeyboardInterrupt",
     "evalue": "",
     "output_type": "error",
     "traceback": [
      "\u001b[1;31m---------------------------------------------------------------------------\u001b[0m",
      "\u001b[1;31mKeyboardInterrupt\u001b[0m                         Traceback (most recent call last)",
      "\u001b[1;32md:\\FinTransformers\\v1.3\\test.ipynb Cell 6\u001b[0m line \u001b[0;36m1\n\u001b[1;32m----> <a href='vscode-notebook-cell:/d%3A/FinTransformers/v1.3/test.ipynb#W3sZmlsZQ%3D%3D?line=0'>1</a>\u001b[0m trainer(model\u001b[39m=\u001b[39;49mmodel, Epochs\u001b[39m=\u001b[39;49m\u001b[39m1000\u001b[39;49m, lr \u001b[39m=\u001b[39;49m \u001b[39m1e-7\u001b[39;49m, trainloader\u001b[39m=\u001b[39;49mtrainloader, validloader\u001b[39m=\u001b[39;49mvalidloader)\n",
      "File \u001b[1;32md:\\FinTransformers\\v1.3\\train.py:43\u001b[0m, in \u001b[0;36mtrainer\u001b[1;34m(model, Epochs, lr, trainloader, validloader, checkpoint_path)\u001b[0m\n\u001b[0;32m     41\u001b[0m     loss\u001b[39m.\u001b[39mbackward()\n\u001b[0;32m     42\u001b[0m     optimizer\u001b[39m.\u001b[39mstep()\n\u001b[1;32m---> 43\u001b[0m     epoch_loss \u001b[39m+\u001b[39m\u001b[39m=\u001b[39m loss\u001b[39m.\u001b[39;49mitem()\n\u001b[0;32m     45\u001b[0m model\u001b[39m.\u001b[39meval()\n\u001b[0;32m     46\u001b[0m \u001b[39mwith\u001b[39;00m torch\u001b[39m.\u001b[39mno_grad():\n",
      "\u001b[1;31mKeyboardInterrupt\u001b[0m: "
     ]
    }
   ],
   "source": [
    "trainer(model=model, Epochs=1000, lr = 1e-7, trainloader=trainloader, validloader=validloader)"
   ]
  },
  {
   "cell_type": "code",
   "execution_count": 7,
   "metadata": {},
   "outputs": [
    {
     "name": "stderr",
     "output_type": "stream",
     "text": [
      "100%|██████████| 317/317 [01:27<00:00,  3.64it/s]"
     ]
    },
    {
     "name": "stdout",
     "output_type": "stream",
     "text": [
      "Test Loss = 278.4537186920643\n",
      "R2 Score = -2.805877923965454\n"
     ]
    },
    {
     "name": "stderr",
     "output_type": "stream",
     "text": [
      "\n"
     ]
    }
   ],
   "source": [
    "from train import tester\n",
    "\n",
    "tester(model = model, testloader=testloader)"
   ]
  },
  {
   "cell_type": "code",
   "execution_count": 6,
   "metadata": {},
   "outputs": [
    {
     "name": "stdout",
     "output_type": "stream",
     "text": [
      "Epoch 1/1000 ---- "
     ]
    },
    {
     "name": "stderr",
     "output_type": "stream",
     "text": [
      "100%|██████████| 74/74 [01:36<00:00,  1.31s/it]\n",
      "100%|██████████| 96/96 [00:26<00:00,  3.66it/s]\n"
     ]
    },
    {
     "name": "stdout",
     "output_type": "stream",
     "text": [
      "Train Epoch Loss = 36.49588780105114 --------- Validation Epoch Loss = 60.54858887195587\n",
      "Epoch 2/1000 ---- "
     ]
    },
    {
     "name": "stderr",
     "output_type": "stream",
     "text": [
      "  8%|▊         | 6/74 [00:09<01:43,  1.52s/it]\n"
     ]
    },
    {
     "ename": "KeyboardInterrupt",
     "evalue": "",
     "output_type": "error",
     "traceback": [
      "\u001b[1;31m---------------------------------------------------------------------------\u001b[0m",
      "\u001b[1;31mKeyboardInterrupt\u001b[0m                         Traceback (most recent call last)",
      "\u001b[1;32md:\\FinTransformers\\v1.2\\test.ipynb Cell 6\u001b[0m line \u001b[0;36m1\n\u001b[1;32m----> <a href='vscode-notebook-cell:/d%3A/FinTransformers/v1.2/test.ipynb#W5sZmlsZQ%3D%3D?line=0'>1</a>\u001b[0m trainer(model\u001b[39m=\u001b[39;49mmodel, Epochs\u001b[39m=\u001b[39;49m\u001b[39m1000\u001b[39;49m, lr \u001b[39m=\u001b[39;49m \u001b[39m1e-7\u001b[39;49m, trainloader\u001b[39m=\u001b[39;49mtrainloader, validloader\u001b[39m=\u001b[39;49mvalidloader)\n",
      "File \u001b[1;32md:\\FinTransformers\\v1.2\\train.py:43\u001b[0m, in \u001b[0;36mtrainer\u001b[1;34m(model, Epochs, lr, trainloader, validloader, checkpoint_path)\u001b[0m\n\u001b[0;32m     41\u001b[0m     loss\u001b[39m.\u001b[39mbackward()\n\u001b[0;32m     42\u001b[0m     optimizer\u001b[39m.\u001b[39mstep()\n\u001b[1;32m---> 43\u001b[0m     epoch_loss \u001b[39m+\u001b[39m\u001b[39m=\u001b[39m loss\u001b[39m.\u001b[39;49mitem()\n\u001b[0;32m     45\u001b[0m model\u001b[39m.\u001b[39meval()\n\u001b[0;32m     46\u001b[0m \u001b[39mwith\u001b[39;00m torch\u001b[39m.\u001b[39mno_grad():\n",
      "\u001b[1;31mKeyboardInterrupt\u001b[0m: "
     ]
    }
   ],
   "source": [
    "trainer(model=model, Epochs=1000, lr = 1e-7, trainloader=trainloader, validloader=validloader)"
   ]
  },
  {
   "cell_type": "code",
   "execution_count": null,
   "metadata": {},
   "outputs": [],
   "source": []
  }
 ],
 "metadata": {
  "kernelspec": {
   "display_name": "base",
   "language": "python",
   "name": "python3"
  },
  "language_info": {
   "codemirror_mode": {
    "name": "ipython",
    "version": 3
   },
   "file_extension": ".py",
   "mimetype": "text/x-python",
   "name": "python",
   "nbconvert_exporter": "python",
   "pygments_lexer": "ipython3",
   "version": "3.9.16"
  },
  "orig_nbformat": 4
 },
 "nbformat": 4,
 "nbformat_minor": 2
}
