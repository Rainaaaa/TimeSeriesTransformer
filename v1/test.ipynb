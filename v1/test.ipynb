{
 "cells": [
  {
   "cell_type": "code",
   "execution_count": 1,
   "metadata": {},
   "outputs": [
    {
     "name": "stderr",
     "output_type": "stream",
     "text": [
      "<frozen importlib._bootstrap>:228: RuntimeWarning: scipy._lib.messagestream.MessageStream size changed, may indicate binary incompatibility. Expected 56 from C header, got 64 from PyObject\n"
     ]
    }
   ],
   "source": [
    "import pandas as pd\n",
    "from dataset import CharData"
   ]
  },
  {
   "cell_type": "code",
   "execution_count": 2,
   "metadata": {},
   "outputs": [
    {
     "name": "stderr",
     "output_type": "stream",
     "text": [
      "100%|██████████| 780/780 [07:54<00:00,  1.65it/s]\n",
      "100%|██████████| 214/214 [00:01<00:00, 165.95it/s]\n",
      "100%|██████████| 144/144 [00:01<00:00, 88.47it/s]\n",
      "100%|██████████| 360/360 [00:05<00:00, 65.89it/s]\n"
     ]
    }
   ],
   "source": [
    "data = CharData()"
   ]
  },
  {
   "cell_type": "code",
   "execution_count": 3,
   "metadata": {},
   "outputs": [
    {
     "data": {
      "text/html": [
       "<div>\n",
       "<style scoped>\n",
       "    .dataframe tbody tr th:only-of-type {\n",
       "        vertical-align: middle;\n",
       "    }\n",
       "\n",
       "    .dataframe tbody tr th {\n",
       "        vertical-align: top;\n",
       "    }\n",
       "\n",
       "    .dataframe thead th {\n",
       "        text-align: right;\n",
       "    }\n",
       "</style>\n",
       "<table border=\"1\" class=\"dataframe\">\n",
       "  <thead>\n",
       "    <tr style=\"text-align: right;\">\n",
       "      <th></th>\n",
       "      <th>absacc</th>\n",
       "      <th>acc</th>\n",
       "      <th>age</th>\n",
       "      <th>agr</th>\n",
       "      <th>bm</th>\n",
       "      <th>bm_ia</th>\n",
       "      <th>cashdebt</th>\n",
       "      <th>cashpr</th>\n",
       "      <th>cfp</th>\n",
       "      <th>cfp_ia</th>\n",
       "      <th>...</th>\n",
       "      <th>pricedelay</th>\n",
       "      <th>retvol</th>\n",
       "      <th>std_dolvol</th>\n",
       "      <th>std_turn</th>\n",
       "      <th>turn</th>\n",
       "      <th>zerotrade</th>\n",
       "      <th>permno</th>\n",
       "      <th>month</th>\n",
       "      <th>date</th>\n",
       "      <th>ret-rf</th>\n",
       "    </tr>\n",
       "  </thead>\n",
       "  <tbody>\n",
       "    <tr>\n",
       "      <th>0</th>\n",
       "      <td>0.252952</td>\n",
       "      <td>-0.444525</td>\n",
       "      <td>-0.314286</td>\n",
       "      <td>0.437102</td>\n",
       "      <td>0.525124</td>\n",
       "      <td>-0.287236</td>\n",
       "      <td>-0.001214</td>\n",
       "      <td>-0.969952</td>\n",
       "      <td>0.882700</td>\n",
       "      <td>0.769004</td>\n",
       "      <td>...</td>\n",
       "      <td>0.690738</td>\n",
       "      <td>-0.779499</td>\n",
       "      <td>0.760076</td>\n",
       "      <td>0.003457</td>\n",
       "      <td>-0.561475</td>\n",
       "      <td>0.621798</td>\n",
       "      <td>10001</td>\n",
       "      <td>199905</td>\n",
       "      <td>19990528</td>\n",
       "      <td>-0.183182</td>\n",
       "    </tr>\n",
       "    <tr>\n",
       "      <th>1</th>\n",
       "      <td>0.006440</td>\n",
       "      <td>-0.000723</td>\n",
       "      <td>-0.314286</td>\n",
       "      <td>0.239680</td>\n",
       "      <td>-0.074546</td>\n",
       "      <td>-0.281236</td>\n",
       "      <td>-0.352959</td>\n",
       "      <td>-0.566707</td>\n",
       "      <td>0.005898</td>\n",
       "      <td>0.003604</td>\n",
       "      <td>...</td>\n",
       "      <td>-0.719780</td>\n",
       "      <td>-0.730870</td>\n",
       "      <td>0.878607</td>\n",
       "      <td>-0.827155</td>\n",
       "      <td>-0.966490</td>\n",
       "      <td>0.795312</td>\n",
       "      <td>10002</td>\n",
       "      <td>199905</td>\n",
       "      <td>19990528</td>\n",
       "      <td>0.022790</td>\n",
       "    </tr>\n",
       "    <tr>\n",
       "      <th>2</th>\n",
       "      <td>0.006440</td>\n",
       "      <td>-0.000723</td>\n",
       "      <td>-0.314286</td>\n",
       "      <td>0.120574</td>\n",
       "      <td>0.328634</td>\n",
       "      <td>-0.112044</td>\n",
       "      <td>-0.411229</td>\n",
       "      <td>-0.895433</td>\n",
       "      <td>0.005898</td>\n",
       "      <td>0.003604</td>\n",
       "      <td>...</td>\n",
       "      <td>0.678441</td>\n",
       "      <td>-0.497497</td>\n",
       "      <td>0.891486</td>\n",
       "      <td>-0.290261</td>\n",
       "      <td>-0.695034</td>\n",
       "      <td>0.882069</td>\n",
       "      <td>10009</td>\n",
       "      <td>199905</td>\n",
       "      <td>19990528</td>\n",
       "      <td>-0.106518</td>\n",
       "    </tr>\n",
       "    <tr>\n",
       "      <th>3</th>\n",
       "      <td>0.006440</td>\n",
       "      <td>-0.000723</td>\n",
       "      <td>-0.314286</td>\n",
       "      <td>0.748409</td>\n",
       "      <td>-0.873406</td>\n",
       "      <td>-0.405430</td>\n",
       "      <td>-0.707739</td>\n",
       "      <td>0.581731</td>\n",
       "      <td>0.005898</td>\n",
       "      <td>0.003604</td>\n",
       "      <td>...</td>\n",
       "      <td>-0.642595</td>\n",
       "      <td>0.722288</td>\n",
       "      <td>0.351061</td>\n",
       "      <td>0.298605</td>\n",
       "      <td>0.101254</td>\n",
       "      <td>-0.211213</td>\n",
       "      <td>10012</td>\n",
       "      <td>199905</td>\n",
       "      <td>19990528</td>\n",
       "      <td>2.085095</td>\n",
       "    </tr>\n",
       "    <tr>\n",
       "      <th>4</th>\n",
       "      <td>0.006440</td>\n",
       "      <td>-0.000723</td>\n",
       "      <td>-0.314286</td>\n",
       "      <td>0.725241</td>\n",
       "      <td>-0.428829</td>\n",
       "      <td>0.257237</td>\n",
       "      <td>-0.354780</td>\n",
       "      <td>-0.110276</td>\n",
       "      <td>0.005898</td>\n",
       "      <td>0.003604</td>\n",
       "      <td>...</td>\n",
       "      <td>-0.152276</td>\n",
       "      <td>-0.680572</td>\n",
       "      <td>-0.128786</td>\n",
       "      <td>-0.090476</td>\n",
       "      <td>0.358486</td>\n",
       "      <td>0.066699</td>\n",
       "      <td>10016</td>\n",
       "      <td>199905</td>\n",
       "      <td>19990528</td>\n",
       "      <td>0.036765</td>\n",
       "    </tr>\n",
       "  </tbody>\n",
       "</table>\n",
       "<p>5 rows × 98 columns</p>\n",
       "</div>"
      ],
      "text/plain": [
       "     absacc       acc       age       agr        bm     bm_ia  cashdebt  \\\n",
       "0  0.252952 -0.444525 -0.314286  0.437102  0.525124 -0.287236 -0.001214   \n",
       "1  0.006440 -0.000723 -0.314286  0.239680 -0.074546 -0.281236 -0.352959   \n",
       "2  0.006440 -0.000723 -0.314286  0.120574  0.328634 -0.112044 -0.411229   \n",
       "3  0.006440 -0.000723 -0.314286  0.748409 -0.873406 -0.405430 -0.707739   \n",
       "4  0.006440 -0.000723 -0.314286  0.725241 -0.428829  0.257237 -0.354780   \n",
       "\n",
       "     cashpr       cfp    cfp_ia  ...  pricedelay    retvol  std_dolvol  \\\n",
       "0 -0.969952  0.882700  0.769004  ...    0.690738 -0.779499    0.760076   \n",
       "1 -0.566707  0.005898  0.003604  ...   -0.719780 -0.730870    0.878607   \n",
       "2 -0.895433  0.005898  0.003604  ...    0.678441 -0.497497    0.891486   \n",
       "3  0.581731  0.005898  0.003604  ...   -0.642595  0.722288    0.351061   \n",
       "4 -0.110276  0.005898  0.003604  ...   -0.152276 -0.680572   -0.128786   \n",
       "\n",
       "   std_turn      turn  zerotrade  permno   month      date    ret-rf  \n",
       "0  0.003457 -0.561475   0.621798   10001  199905  19990528 -0.183182  \n",
       "1 -0.827155 -0.966490   0.795312   10002  199905  19990528  0.022790  \n",
       "2 -0.290261 -0.695034   0.882069   10009  199905  19990528 -0.106518  \n",
       "3  0.298605  0.101254  -0.211213   10012  199905  19990528  2.085095  \n",
       "4 -0.090476  0.358486   0.066699   10016  199905  19990528  0.036765  \n",
       "\n",
       "[5 rows x 98 columns]"
      ]
     },
     "execution_count": 3,
     "metadata": {},
     "output_type": "execute_result"
    }
   ],
   "source": [
    "data.df.head()"
   ]
  },
  {
   "cell_type": "code",
   "execution_count": 1,
   "metadata": {},
   "outputs": [],
   "source": [
    "import torch\n",
    "import numpy as np\n",
    "import preprocess as p\n",
    "import pickle as pkl\n",
    "from train import trainer, tester, priorityChecker\n",
    "from modules import FinTransformer"
   ]
  },
  {
   "cell_type": "code",
   "execution_count": 4,
   "metadata": {},
   "outputs": [],
   "source": [
    "# datapath = [\"./x_valid.pkl\", \"./x_train.pkl\", \"./x_test.pkl\"]\n",
    "# writepath = [\"validloader.pt\", \"trainloader.pt\", \"testloader.pt\"]\n",
    "\n",
    "batch_size = 512\n",
    "\n",
    "# for i in range(len(datapath)):\n",
    "#     p.transform(datapath=datapath[i], writepath=writepath[i], batch_size = batch_size)"
   ]
  },
  {
   "cell_type": "code",
   "execution_count": 5,
   "metadata": {},
   "outputs": [],
   "source": [
    "trainloader = torch.load(\"trainloader.pt\")\n",
    "testloader = torch.load(\"testloader.pt\")\n",
    "validloader = torch.load(\"validloader.pt\")"
   ]
  },
  {
   "cell_type": "code",
   "execution_count": 6,
   "metadata": {},
   "outputs": [],
   "source": [
    "embed_size = 128\n",
    "inner_dim = 128\n",
    "num_characteristics = 94\n",
    "heads = 8\n",
    "repeats = 3\n",
    "dropout = 0.2\n",
    "batch_size = batch_size\n",
    "num_companies = batch_size\n",
    "\n",
    "model = FinTransformer(embed_size, inner_dim, num_companies, num_characteristics, heads, repeats, dropout)"
   ]
  },
  {
   "cell_type": "code",
   "execution_count": 7,
   "metadata": {},
   "outputs": [],
   "source": [
    "device = \"cuda\"\n",
    "model = model.to(device)"
   ]
  },
  {
   "cell_type": "code",
   "execution_count": 8,
   "metadata": {},
   "outputs": [
    {
     "name": "stdout",
     "output_type": "stream",
     "text": [
      "Epoch 1/10 ---- "
     ]
    },
    {
     "name": "stderr",
     "output_type": "stream",
     "text": [
      "  0%|          | 0/948 [00:00<?, ?it/s]"
     ]
    },
    {
     "name": "stderr",
     "output_type": "stream",
     "text": [
      "100%|██████████| 948/948 [02:10<00:00,  7.26it/s]\n",
      "100%|██████████| 1517/1517 [00:54<00:00, 27.75it/s]\n"
     ]
    },
    {
     "name": "stdout",
     "output_type": "stream",
     "text": [
      "Train Epoch Loss = 37.03694012481719 --------- Validation Epoch Loss = 75.11222541728057\n",
      "Epoch 2/10 ---- "
     ]
    },
    {
     "name": "stderr",
     "output_type": "stream",
     "text": [
      "100%|██████████| 948/948 [02:08<00:00,  7.39it/s]\n",
      "100%|██████████| 1517/1517 [00:56<00:00, 26.70it/s]\n"
     ]
    },
    {
     "name": "stdout",
     "output_type": "stream",
     "text": [
      "Train Epoch Loss = 16.993337800959125 --------- Validation Epoch Loss = 118.8320079020632\n",
      "Epoch 3/10 ---- "
     ]
    },
    {
     "name": "stderr",
     "output_type": "stream",
     "text": [
      "100%|██████████| 948/948 [02:05<00:00,  7.53it/s]\n",
      "100%|██████████| 1517/1517 [00:55<00:00, 27.19it/s]\n"
     ]
    },
    {
     "name": "stdout",
     "output_type": "stream",
     "text": [
      "Train Epoch Loss = 9.96274280094076 --------- Validation Epoch Loss = 58.71589156406117\n",
      "Epoch 4/10 ---- "
     ]
    },
    {
     "name": "stderr",
     "output_type": "stream",
     "text": [
      "100%|██████████| 948/948 [02:10<00:00,  7.25it/s]\n",
      "100%|██████████| 1517/1517 [00:56<00:00, 26.98it/s]\n"
     ]
    },
    {
     "name": "stdout",
     "output_type": "stream",
     "text": [
      "Train Epoch Loss = 11.989235466928221 --------- Validation Epoch Loss = 75.44498232379556\n",
      "Epoch 5/10 ---- "
     ]
    },
    {
     "name": "stderr",
     "output_type": "stream",
     "text": [
      "100%|██████████| 948/948 [02:11<00:00,  7.20it/s]\n",
      "100%|██████████| 1517/1517 [00:56<00:00, 26.98it/s]\n"
     ]
    },
    {
     "name": "stdout",
     "output_type": "stream",
     "text": [
      "Train Epoch Loss = 8.022189824841917 --------- Validation Epoch Loss = 53.79658924852265\n",
      "Epoch 6/10 ---- "
     ]
    },
    {
     "name": "stderr",
     "output_type": "stream",
     "text": [
      "100%|██████████| 948/948 [02:10<00:00,  7.24it/s]\n",
      "100%|██████████| 1517/1517 [00:56<00:00, 26.93it/s]\n"
     ]
    },
    {
     "name": "stdout",
     "output_type": "stream",
     "text": [
      "Train Epoch Loss = 6.054462883039378 --------- Validation Epoch Loss = 45.658018829868524\n",
      "Epoch 7/10 ---- "
     ]
    },
    {
     "name": "stderr",
     "output_type": "stream",
     "text": [
      "100%|██████████| 948/948 [02:10<00:00,  7.24it/s]\n",
      "100%|██████████| 1517/1517 [00:56<00:00, 26.96it/s]\n"
     ]
    },
    {
     "name": "stdout",
     "output_type": "stream",
     "text": [
      "Train Epoch Loss = 6.695998883922584 --------- Validation Epoch Loss = 41.031066446106706\n",
      "Epoch 8/10 ---- "
     ]
    },
    {
     "name": "stderr",
     "output_type": "stream",
     "text": [
      "100%|██████████| 948/948 [02:11<00:00,  7.20it/s]\n",
      "100%|██████████| 1517/1517 [00:56<00:00, 26.99it/s]\n"
     ]
    },
    {
     "name": "stdout",
     "output_type": "stream",
     "text": [
      "Train Epoch Loss = 5.834338927466888 --------- Validation Epoch Loss = 36.17132834684162\n",
      "Epoch 9/10 ---- "
     ]
    },
    {
     "name": "stderr",
     "output_type": "stream",
     "text": [
      "100%|██████████| 948/948 [02:11<00:00,  7.21it/s]\n",
      "100%|██████████| 1517/1517 [00:56<00:00, 27.00it/s]\n"
     ]
    },
    {
     "name": "stdout",
     "output_type": "stream",
     "text": [
      "Train Epoch Loss = 4.215434517129324 --------- Validation Epoch Loss = 35.36439156130655\n",
      "Epoch 10/10 ---- "
     ]
    },
    {
     "name": "stderr",
     "output_type": "stream",
     "text": [
      "100%|██████████| 948/948 [02:07<00:00,  7.41it/s]\n",
      "100%|██████████| 1517/1517 [00:57<00:00, 26.41it/s]"
     ]
    },
    {
     "name": "stdout",
     "output_type": "stream",
     "text": [
      "Train Epoch Loss = 4.321872599655762 --------- Validation Epoch Loss = 35.929796111391624\n"
     ]
    },
    {
     "name": "stderr",
     "output_type": "stream",
     "text": [
      "\n"
     ]
    }
   ],
   "source": [
    "trainer(model = model, Epochs = 10, lr = 0.0005, trainloader = trainloader, validloader = validloader, num_companies = num_companies, num_characteristics = num_characteristics)"
   ]
  },
  {
   "cell_type": "code",
   "execution_count": 9,
   "metadata": {},
   "outputs": [
    {
     "data": {
      "text/plain": [
       "<All keys matched successfully>"
      ]
     },
     "execution_count": 9,
     "metadata": {},
     "output_type": "execute_result"
    }
   ],
   "source": [
    "test_model = FinTransformer(embed_size, inner_dim, num_companies, num_characteristics, heads, repeats, dropout)\n",
    "test_model.load_state_dict(torch.load(\"./checkpoint/best_model.pt\"))"
   ]
  },
  {
   "cell_type": "code",
   "execution_count": 10,
   "metadata": {},
   "outputs": [
    {
     "name": "stderr",
     "output_type": "stream",
     "text": [
      "100%|██████████| 4916/4916 [03:05<00:00, 26.49it/s]"
     ]
    },
    {
     "name": "stdout",
     "output_type": "stream",
     "text": [
      "Test Loss = 425.19904654173297\n",
      "R2 Score = 0.907906174659729\n"
     ]
    },
    {
     "name": "stderr",
     "output_type": "stream",
     "text": [
      "\n"
     ]
    }
   ],
   "source": [
    "tester(model = test_model, testloader = testloader, num_companies = num_companies, num_characteristics = num_characteristics)"
   ]
  },
  {
   "cell_type": "code",
   "execution_count": null,
   "metadata": {},
   "outputs": [],
   "source": []
  }
 ],
 "metadata": {
  "kernelspec": {
   "display_name": "base",
   "language": "python",
   "name": "python3"
  },
  "language_info": {
   "codemirror_mode": {
    "name": "ipython",
    "version": 3
   },
   "file_extension": ".py",
   "mimetype": "text/x-python",
   "name": "python",
   "nbconvert_exporter": "python",
   "pygments_lexer": "ipython3",
   "version": "3.9.16"
  },
  "orig_nbformat": 4
 },
 "nbformat": 4,
 "nbformat_minor": 2
}
