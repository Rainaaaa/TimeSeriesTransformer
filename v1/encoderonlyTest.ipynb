{
 "cells": [
  {
   "cell_type": "code",
   "execution_count": 14,
   "metadata": {},
   "outputs": [],
   "source": [
    "import torch\n",
    "import numpy as np\n",
    "import preprocess as p\n",
    "import pickle as pkl\n",
    "from train import trainer, tester, priorityChecker\n",
    "from modules import FinTransformer\n",
    "from encoder import EncFinTransformer"
   ]
  },
  {
   "cell_type": "code",
   "execution_count": 15,
   "metadata": {},
   "outputs": [],
   "source": [
    "batch_size = 512"
   ]
  },
  {
   "cell_type": "code",
   "execution_count": 3,
   "metadata": {},
   "outputs": [],
   "source": [
    "trainloader = torch.load(\"trainloader.pt\")\n",
    "testloader = torch.load(\"testloader.pt\")\n",
    "validloader = torch.load(\"validloader.pt\")"
   ]
  },
  {
   "cell_type": "code",
   "execution_count": 16,
   "metadata": {},
   "outputs": [],
   "source": [
    "embed_size = 16\n",
    "inner_dim = 16\n",
    "num_characteristics = 94\n",
    "heads = 8\n",
    "repeats = 3\n",
    "dropout = 0.2\n",
    "batch_size = batch_size\n",
    "num_companies = batch_size\n",
    "\n",
    "model = FinTransformer(embed_size, inner_dim, num_companies, num_characteristics, heads, repeats, dropout)"
   ]
  },
  {
   "cell_type": "code",
   "execution_count": 12,
   "metadata": {},
   "outputs": [],
   "source": [
    "device = \"cuda\"\n",
    "model = model.to(device)"
   ]
  },
  {
   "cell_type": "code",
   "execution_count": 6,
   "metadata": {},
   "outputs": [
    {
     "name": "stdout",
     "output_type": "stream",
     "text": [
      "Epoch 1/30 ---- "
     ]
    },
    {
     "name": "stderr",
     "output_type": "stream",
     "text": [
      "100%|██████████| 948/948 [02:02<00:00,  7.73it/s]\n",
      "100%|██████████| 1517/1517 [00:51<00:00, 29.48it/s]\n"
     ]
    },
    {
     "name": "stdout",
     "output_type": "stream",
     "text": [
      "Train Epoch Loss = 101.91693158820271 --------- Validation Epoch Loss = 167.1235171451699\n",
      "Epoch 2/30 ---- "
     ]
    },
    {
     "name": "stderr",
     "output_type": "stream",
     "text": [
      "100%|██████████| 948/948 [02:00<00:00,  7.84it/s]\n",
      "100%|██████████| 1517/1517 [00:51<00:00, 29.62it/s]\n"
     ]
    },
    {
     "name": "stdout",
     "output_type": "stream",
     "text": [
      "Train Epoch Loss = 35.18150302115828 --------- Validation Epoch Loss = 125.84347208414692\n",
      "Epoch 3/30 ---- "
     ]
    },
    {
     "name": "stderr",
     "output_type": "stream",
     "text": [
      "100%|██████████| 948/948 [02:00<00:00,  7.87it/s]\n",
      "100%|██████████| 1517/1517 [00:51<00:00, 29.51it/s]\n"
     ]
    },
    {
     "name": "stdout",
     "output_type": "stream",
     "text": [
      "Train Epoch Loss = 25.96637649042532 --------- Validation Epoch Loss = 103.81527027464472\n",
      "Epoch 4/30 ---- "
     ]
    },
    {
     "name": "stderr",
     "output_type": "stream",
     "text": [
      "100%|██████████| 948/948 [02:00<00:00,  7.87it/s]\n",
      "100%|██████████| 1517/1517 [00:51<00:00, 29.64it/s]\n"
     ]
    },
    {
     "name": "stdout",
     "output_type": "stream",
     "text": [
      "Train Epoch Loss = 20.78838849393651 --------- Validation Epoch Loss = 88.22387811739463\n",
      "Epoch 5/30 ---- "
     ]
    },
    {
     "name": "stderr",
     "output_type": "stream",
     "text": [
      "100%|██████████| 948/948 [02:00<00:00,  7.85it/s]\n",
      "100%|██████████| 1517/1517 [00:51<00:00, 29.54it/s]\n"
     ]
    },
    {
     "name": "stdout",
     "output_type": "stream",
     "text": [
      "Train Epoch Loss = 18.102541357744485 --------- Validation Epoch Loss = 76.10562255786499\n",
      "Epoch 6/30 ---- "
     ]
    },
    {
     "name": "stderr",
     "output_type": "stream",
     "text": [
      "100%|██████████| 948/948 [02:00<00:00,  7.87it/s]\n",
      "100%|██████████| 1517/1517 [00:51<00:00, 29.60it/s]\n"
     ]
    },
    {
     "name": "stdout",
     "output_type": "stream",
     "text": [
      "Train Epoch Loss = 15.54063202207908 --------- Validation Epoch Loss = 69.71654690086143\n",
      "Epoch 7/30 ---- "
     ]
    },
    {
     "name": "stderr",
     "output_type": "stream",
     "text": [
      "100%|██████████| 948/948 [02:00<00:00,  7.86it/s]\n",
      "100%|██████████| 1517/1517 [00:51<00:00, 29.65it/s]\n"
     ]
    },
    {
     "name": "stdout",
     "output_type": "stream",
     "text": [
      "Train Epoch Loss = 13.919268164318055 --------- Validation Epoch Loss = 61.451350395567715\n",
      "Epoch 8/30 ---- "
     ]
    },
    {
     "name": "stderr",
     "output_type": "stream",
     "text": [
      "100%|██████████| 948/948 [02:00<00:00,  7.86it/s]\n",
      "100%|██████████| 1517/1517 [00:51<00:00, 29.62it/s]\n"
     ]
    },
    {
     "name": "stdout",
     "output_type": "stream",
     "text": [
      "Train Epoch Loss = 12.224848010810092 --------- Validation Epoch Loss = 56.89965231710812\n",
      "Epoch 9/30 ---- "
     ]
    },
    {
     "name": "stderr",
     "output_type": "stream",
     "text": [
      "100%|██████████| 948/948 [02:00<00:00,  7.86it/s]\n",
      "100%|██████████| 1517/1517 [00:51<00:00, 29.72it/s]\n"
     ]
    },
    {
     "name": "stdout",
     "output_type": "stream",
     "text": [
      "Train Epoch Loss = 11.711583087220788 --------- Validation Epoch Loss = 53.28501192043768\n",
      "Epoch 10/30 ---- "
     ]
    },
    {
     "name": "stderr",
     "output_type": "stream",
     "text": [
      "100%|██████████| 948/948 [02:00<00:00,  7.86it/s]\n",
      "100%|██████████| 1517/1517 [00:51<00:00, 29.61it/s]\n"
     ]
    },
    {
     "name": "stdout",
     "output_type": "stream",
     "text": [
      "Train Epoch Loss = 10.315686610061675 --------- Validation Epoch Loss = 47.5126104534429\n",
      "Epoch 11/30 ---- "
     ]
    },
    {
     "name": "stderr",
     "output_type": "stream",
     "text": [
      "100%|██████████| 948/948 [02:00<00:00,  7.87it/s]\n",
      "100%|██████████| 1517/1517 [00:51<00:00, 29.68it/s]\n"
     ]
    },
    {
     "name": "stdout",
     "output_type": "stream",
     "text": [
      "Train Epoch Loss = 9.864917333004996 --------- Validation Epoch Loss = 45.826920942927245\n",
      "Epoch 12/30 ---- "
     ]
    },
    {
     "name": "stderr",
     "output_type": "stream",
     "text": [
      "100%|██████████| 948/948 [02:01<00:00,  7.83it/s]\n",
      "100%|██████████| 1517/1517 [00:51<00:00, 29.59it/s]\n"
     ]
    },
    {
     "name": "stdout",
     "output_type": "stream",
     "text": [
      "Train Epoch Loss = 9.324682709295303 --------- Validation Epoch Loss = 44.36716323782457\n",
      "Epoch 13/30 ---- "
     ]
    },
    {
     "name": "stderr",
     "output_type": "stream",
     "text": [
      "100%|██████████| 948/948 [02:00<00:00,  7.87it/s]\n",
      "100%|██████████| 1517/1517 [00:51<00:00, 29.66it/s]\n"
     ]
    },
    {
     "name": "stdout",
     "output_type": "stream",
     "text": [
      "Train Epoch Loss = 8.609835903160274 --------- Validation Epoch Loss = 39.382215262405225\n",
      "Epoch 14/30 ---- "
     ]
    },
    {
     "name": "stderr",
     "output_type": "stream",
     "text": [
      "100%|██████████| 948/948 [02:00<00:00,  7.84it/s]\n",
      "100%|██████████| 1517/1517 [00:51<00:00, 29.56it/s]\n"
     ]
    },
    {
     "name": "stdout",
     "output_type": "stream",
     "text": [
      "Train Epoch Loss = 8.224648290779442 --------- Validation Epoch Loss = 37.27495989770978\n",
      "Epoch 15/30 ---- "
     ]
    },
    {
     "name": "stderr",
     "output_type": "stream",
     "text": [
      "100%|██████████| 948/948 [02:00<00:00,  7.88it/s]\n",
      "100%|██████████| 1517/1517 [00:51<00:00, 29.53it/s]\n"
     ]
    },
    {
     "name": "stdout",
     "output_type": "stream",
     "text": [
      "Train Epoch Loss = 7.666669438127428 --------- Validation Epoch Loss = 35.72613715354237\n",
      "Epoch 16/30 ---- "
     ]
    },
    {
     "name": "stderr",
     "output_type": "stream",
     "text": [
      "100%|██████████| 948/948 [02:00<00:00,  7.85it/s]\n",
      "100%|██████████| 1517/1517 [00:51<00:00, 29.69it/s]\n"
     ]
    },
    {
     "name": "stdout",
     "output_type": "stream",
     "text": [
      "Train Epoch Loss = 7.565205544582568 --------- Validation Epoch Loss = 34.37533933240047\n",
      "Epoch 17/30 ---- "
     ]
    },
    {
     "name": "stderr",
     "output_type": "stream",
     "text": [
      "100%|██████████| 948/948 [02:00<00:00,  7.87it/s]\n",
      "100%|██████████| 1517/1517 [00:51<00:00, 29.55it/s]\n"
     ]
    },
    {
     "name": "stdout",
     "output_type": "stream",
     "text": [
      "Train Epoch Loss = 6.979607144137844 --------- Validation Epoch Loss = 33.45419013503124\n",
      "Epoch 18/30 ---- "
     ]
    },
    {
     "name": "stderr",
     "output_type": "stream",
     "text": [
      "100%|██████████| 948/948 [02:00<00:00,  7.87it/s]\n",
      "100%|██████████| 1517/1517 [00:51<00:00, 29.65it/s]\n"
     ]
    },
    {
     "name": "stdout",
     "output_type": "stream",
     "text": [
      "Train Epoch Loss = 6.797689931234345 --------- Validation Epoch Loss = 32.26416594613693\n",
      "Epoch 19/30 ---- "
     ]
    },
    {
     "name": "stderr",
     "output_type": "stream",
     "text": [
      "100%|██████████| 948/948 [02:00<00:00,  7.88it/s]\n",
      "100%|██████████| 1517/1517 [00:51<00:00, 29.61it/s]\n"
     ]
    },
    {
     "name": "stdout",
     "output_type": "stream",
     "text": [
      "Train Epoch Loss = 7.074939841404557 --------- Validation Epoch Loss = 32.3129674353695\n",
      "Epoch 20/30 ---- "
     ]
    },
    {
     "name": "stderr",
     "output_type": "stream",
     "text": [
      "100%|██████████| 948/948 [02:00<00:00,  7.86it/s]\n",
      "100%|██████████| 1517/1517 [00:51<00:00, 29.63it/s]\n"
     ]
    },
    {
     "name": "stdout",
     "output_type": "stream",
     "text": [
      "Train Epoch Loss = 6.092682682676241 --------- Validation Epoch Loss = 30.74026743110153\n",
      "Epoch 21/30 ---- "
     ]
    },
    {
     "name": "stderr",
     "output_type": "stream",
     "text": [
      "100%|██████████| 948/948 [02:00<00:00,  7.88it/s]\n",
      "100%|██████████| 1517/1517 [00:51<00:00, 29.65it/s]\n"
     ]
    },
    {
     "name": "stdout",
     "output_type": "stream",
     "text": [
      "Train Epoch Loss = 6.1290829934878275 --------- Validation Epoch Loss = 30.29972137894947\n",
      "Epoch 22/30 ---- "
     ]
    },
    {
     "name": "stderr",
     "output_type": "stream",
     "text": [
      "100%|██████████| 948/948 [02:00<00:00,  7.86it/s]\n",
      "100%|██████████| 1517/1517 [00:51<00:00, 29.69it/s]\n"
     ]
    },
    {
     "name": "stdout",
     "output_type": "stream",
     "text": [
      "Train Epoch Loss = 5.7890422702766955 --------- Validation Epoch Loss = 29.477581620943965\n",
      "Epoch 23/30 ---- "
     ]
    },
    {
     "name": "stderr",
     "output_type": "stream",
     "text": [
      "100%|██████████| 948/948 [02:00<00:00,  7.88it/s]\n",
      "100%|██████████| 1517/1517 [00:51<00:00, 29.65it/s]\n"
     ]
    },
    {
     "name": "stdout",
     "output_type": "stream",
     "text": [
      "Train Epoch Loss = 5.843369822599925 --------- Validation Epoch Loss = 29.072915422322694\n",
      "Epoch 24/30 ---- "
     ]
    },
    {
     "name": "stderr",
     "output_type": "stream",
     "text": [
      "100%|██████████| 948/948 [02:00<00:00,  7.86it/s]\n",
      "100%|██████████| 1517/1517 [00:51<00:00, 29.57it/s]\n"
     ]
    },
    {
     "name": "stdout",
     "output_type": "stream",
     "text": [
      "Train Epoch Loss = 5.3231213932158425 --------- Validation Epoch Loss = 27.469591599394334\n",
      "Epoch 25/30 ---- "
     ]
    },
    {
     "name": "stderr",
     "output_type": "stream",
     "text": [
      "100%|██████████| 948/948 [02:00<00:00,  7.87it/s]\n",
      "100%|██████████| 1517/1517 [00:51<00:00, 29.37it/s]\n"
     ]
    },
    {
     "name": "stdout",
     "output_type": "stream",
     "text": [
      "Train Epoch Loss = 5.31168652663473 --------- Validation Epoch Loss = 26.9592632787826\n",
      "Epoch 26/30 ---- "
     ]
    },
    {
     "name": "stderr",
     "output_type": "stream",
     "text": [
      "100%|██████████| 948/948 [02:00<00:00,  7.85it/s]\n",
      "100%|██████████| 1517/1517 [00:51<00:00, 29.60it/s]\n"
     ]
    },
    {
     "name": "stdout",
     "output_type": "stream",
     "text": [
      "Train Epoch Loss = 5.672668118961155 --------- Validation Epoch Loss = 26.68543437484186\n",
      "Epoch 27/30 ---- "
     ]
    },
    {
     "name": "stderr",
     "output_type": "stream",
     "text": [
      "100%|██████████| 948/948 [02:00<00:00,  7.88it/s]\n",
      "100%|██████████| 1517/1517 [00:51<00:00, 29.62it/s]\n"
     ]
    },
    {
     "name": "stdout",
     "output_type": "stream",
     "text": [
      "Train Epoch Loss = 5.393108693999238 --------- Validation Epoch Loss = 25.952623889781535\n",
      "Epoch 28/30 ---- "
     ]
    },
    {
     "name": "stderr",
     "output_type": "stream",
     "text": [
      "100%|██████████| 948/948 [02:00<00:00,  7.84it/s]\n",
      "100%|██████████| 1517/1517 [00:51<00:00, 29.70it/s]\n"
     ]
    },
    {
     "name": "stdout",
     "output_type": "stream",
     "text": [
      "Train Epoch Loss = 4.808318301918916 --------- Validation Epoch Loss = 26.28430386603577\n",
      "Epoch 29/30 ---- "
     ]
    },
    {
     "name": "stderr",
     "output_type": "stream",
     "text": [
      "100%|██████████| 948/948 [02:00<00:00,  7.88it/s]\n",
      "100%|██████████| 1517/1517 [00:51<00:00, 29.61it/s]\n"
     ]
    },
    {
     "name": "stdout",
     "output_type": "stream",
     "text": [
      "Train Epoch Loss = 4.681340002804063 --------- Validation Epoch Loss = 25.604568856186233\n",
      "Epoch 30/30 ---- "
     ]
    },
    {
     "name": "stderr",
     "output_type": "stream",
     "text": [
      "100%|██████████| 948/948 [02:00<00:00,  7.87it/s]\n",
      "100%|██████████| 1517/1517 [00:51<00:00, 29.68it/s]"
     ]
    },
    {
     "name": "stdout",
     "output_type": "stream",
     "text": [
      "Train Epoch Loss = 4.694171402370557 --------- Validation Epoch Loss = 24.517498947447166\n"
     ]
    },
    {
     "name": "stderr",
     "output_type": "stream",
     "text": [
      "\n"
     ]
    }
   ],
   "source": [
    "trainer(model = model, Epochs = 30, lr = 0.0005, trainloader = trainloader, validloader = validloader, num_companies = num_companies, num_characteristics = num_characteristics)"
   ]
  },
  {
   "cell_type": "code",
   "execution_count": 17,
   "metadata": {},
   "outputs": [
    {
     "data": {
      "text/plain": [
       "<All keys matched successfully>"
      ]
     },
     "execution_count": 17,
     "metadata": {},
     "output_type": "execute_result"
    }
   ],
   "source": [
    "test_model = FinTransformer(embed_size, inner_dim, num_companies, num_characteristics, heads, repeats, dropout)\n",
    "test_model.load_state_dict(torch.load(\"./checkpoint/best_model.pt\"))"
   ]
  },
  {
   "cell_type": "code",
   "execution_count": 8,
   "metadata": {},
   "outputs": [
    {
     "name": "stderr",
     "output_type": "stream",
     "text": [
      "100%|██████████| 4916/4916 [02:48<00:00, 29.26it/s]"
     ]
    },
    {
     "name": "stdout",
     "output_type": "stream",
     "text": [
      "Test Loss = 354.7513891634153\n",
      "R2 Score = 0.9275994300842285\n"
     ]
    },
    {
     "name": "stderr",
     "output_type": "stream",
     "text": [
      "\n"
     ]
    }
   ],
   "source": [
    "tester(model=model, testloader=testloader, num_companies=512, num_characteristics=94)"
   ]
  },
  {
   "cell_type": "code",
   "execution_count": 14,
   "metadata": {},
   "outputs": [
    {
     "data": {
      "text/plain": [
       "1633793"
      ]
     },
     "execution_count": 14,
     "metadata": {},
     "output_type": "execute_result"
    }
   ],
   "source": [
    "sum(p.numel() for p in model.parameters())"
   ]
  },
  {
   "cell_type": "code",
   "execution_count": null,
   "metadata": {},
   "outputs": [],
   "source": []
  }
 ],
 "metadata": {
  "kernelspec": {
   "display_name": "base",
   "language": "python",
   "name": "python3"
  },
  "language_info": {
   "codemirror_mode": {
    "name": "ipython",
    "version": 3
   },
   "file_extension": ".py",
   "mimetype": "text/x-python",
   "name": "python",
   "nbconvert_exporter": "python",
   "pygments_lexer": "ipython3",
   "version": "3.9.16"
  },
  "orig_nbformat": 4
 },
 "nbformat": 4,
 "nbformat_minor": 2
}
